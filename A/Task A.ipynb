{
 "cells": [
  {
   "cell_type": "code",
   "execution_count": 35,
   "metadata": {},
   "outputs": [],
   "source": [
    "import torch\n",
    "import torch.nn as nn\n",
    "from torch.utils.data import Dataset, DataLoader\n",
    "from torchvision import transforms\n",
    "import torchvision.transforms.functional as TF\n",
    "from PIL import Image\n",
    "import os\n",
    "import glob\n",
    "import matplotlib.pyplot as plt\n",
    "import numpy as np\n",
    "from piq import psnr,ssim"
   ]
  },
  {
   "cell_type": "code",
   "execution_count": 36,
   "metadata": {},
   "outputs": [],
   "source": [
    "class DIV2KDataset(Dataset):\n",
    "    def __init__(self, lr_path, hr_path, crop_size_hr=192, scale_factor=2):\n",
    "        self.lr_path = lr_path\n",
    "        self.hr_path = hr_path\n",
    "        self.crop_size_hr = crop_size_hr\n",
    "        self.scale_factor = scale_factor\n",
    "        \n",
    "        self.lr_images = glob.glob(f'{lr_path}/*.png')\n",
    "        self.hr_images = glob.glob(f'{hr_path}/*.png')\n",
    "        \n",
    "        self.crop_size_lr = crop_size_hr // self.scale_factor\n",
    "\n",
    "        self.hr_transform = transforms.Compose([\n",
    "            transforms.ToTensor(),\n",
    "        ])\n",
    "        \n",
    "        self.lr_transform = transforms.Compose([\n",
    "            transforms.Resize((crop_size_hr,crop_size_hr), interpolation=Image.BICUBIC),\n",
    "            transforms.ToTensor(),\n",
    "        ])\n",
    "\n",
    "    def __len__(self):\n",
    "        return len(self.lr_images)\n",
    "\n",
    "    def __getitem__(self, idx):\n",
    "        lr_img_path = self.lr_images[idx]\n",
    "        hr_img_path = self.hr_images[idx]\n",
    "\n",
    "        lr_image = Image.open(lr_img_path)\n",
    "        hr_image = Image.open(hr_img_path)\n",
    "\n",
    "        i, j, h, w = transforms.RandomCrop.get_params(\n",
    "            hr_image, output_size=(self.crop_size_hr, self.crop_size_hr))\n",
    "        hr_image = TF.crop(hr_image, i, j, h, w)\n",
    "        \n",
    "        lr_image = TF.crop(lr_image, i // self.scale_factor, j // self.scale_factor, self.crop_size_lr, self.crop_size_lr)\n",
    "        \n",
    "        lr_image = self.lr_transform(lr_image)\n",
    "        hr_image = self.hr_transform(hr_image)\n",
    "\n",
    "        return lr_image, hr_image"
   ]
  },
  {
   "cell_type": "code",
   "execution_count": 37,
   "metadata": {},
   "outputs": [],
   "source": [
    "TRAIN_HR_PATH = './DIV2K_train_HR'\n",
    "TRAIN_LR_PATH = './DIV2K_train_LR_bicubic/X2'\n",
    "VAL_HR_PATH = './DIV2K_valid_HR'\n",
    "VAL_LR_PATH = './DIV2K_valid_LR_bicubic_X2/X2'\n",
    "train_dataset = DIV2KDataset(lr_path=TRAIN_LR_PATH, hr_path=TRAIN_HR_PATH)\n",
    "val_dataset = DIV2KDataset(lr_path=VAL_LR_PATH, hr_path=VAL_HR_PATH)\n"
   ]
  },
  {
   "cell_type": "code",
   "execution_count": 38,
   "metadata": {},
   "outputs": [],
   "source": [
    "train_loader = DataLoader(train_dataset, batch_size=64, shuffle=True)\n",
    "val_loader = DataLoader(val_dataset, batch_size=64, shuffle=True)"
   ]
  },
  {
   "cell_type": "code",
   "execution_count": 25,
   "metadata": {},
   "outputs": [],
   "source": [
    "class Model(nn.Module): \n",
    "    def __init__(self):\n",
    "        super(Model, self).__init__()\n",
    "        self.conv1 = nn.Conv2d(3, 64, kernel_size=9, padding=4)\n",
    "        self.relu = nn.ReLU(inplace=True)\n",
    "        self.conv2 = nn.Conv2d(64, 32, kernel_size=1, padding=0)\n",
    "        self.conv3 = nn.Conv2d(32, 3, kernel_size=5, padding=2)\n",
    "        \n",
    "    def forward(self, x):\n",
    "        x = self.relu(self.conv1(x))\n",
    "        x = self.relu(self.conv2(x))\n",
    "        x = self.conv3(x)\n",
    "        return x"
   ]
  },
  {
   "cell_type": "code",
   "execution_count": 26,
   "metadata": {},
   "outputs": [
    {
     "name": "stdout",
     "output_type": "stream",
     "text": [
      "Epoch 1, Training Loss: 0.0778325952302951, Validation Loss: 0.025478878058493137\n",
      "Epoch 2, Training Loss: 0.01959277753933118, Validation Loss: 0.013764627277851105\n",
      "Epoch 3, Training Loss: 0.011399753391742706, Validation Loss: 0.008643283508718014\n",
      "Epoch 4, Training Loss: 0.007612895972740192, Validation Loss: 0.00622155237942934\n",
      "Epoch 5, Training Loss: 0.005388816352933645, Validation Loss: 0.005008500535041094\n",
      "Epoch 6, Training Loss: 0.004811499303636642, Validation Loss: 0.0048757793847471476\n",
      "Epoch 7, Training Loss: 0.004616334174688046, Validation Loss: 0.0037372593069449067\n",
      "Epoch 8, Training Loss: 0.004493838265681496, Validation Loss: 0.003997330670244992\n",
      "Epoch 9, Training Loss: 0.0039325820532842325, Validation Loss: 0.0040017327992245555\n",
      "Epoch 10, Training Loss: 0.003868255065754056, Validation Loss: 0.003394054132513702\n",
      "Epoch 11, Training Loss: 0.003368574606541258, Validation Loss: 0.0034264682326465845\n",
      "Epoch 12, Training Loss: 0.0031540582422167063, Validation Loss: 0.0035865647951141\n",
      "Epoch 13, Training Loss: 0.0031210478001202527, Validation Loss: 0.002939400728791952\n",
      "Epoch 14, Training Loss: 0.003107706604238886, Validation Loss: 0.0026300655445083976\n",
      "Epoch 15, Training Loss: 0.003081496715402374, Validation Loss: 0.003005813807249069\n",
      "Epoch 16, Training Loss: 0.0030791717044149455, Validation Loss: 0.003205892047844827\n",
      "Epoch 17, Training Loss: 0.0031356254341797186, Validation Loss: 0.0028444419149309397\n",
      "Epoch 18, Training Loss: 0.0028938235213550236, Validation Loss: 0.0028375735273584723\n",
      "Epoch 19, Training Loss: 0.0027444880509462496, Validation Loss: 0.0024169764947146177\n",
      "Epoch 20, Training Loss: 0.0028421449152609478, Validation Loss: 0.0023064836859703064\n",
      "Epoch 21, Training Loss: 0.002808579995941657, Validation Loss: 0.0023812828585505486\n",
      "Epoch 22, Training Loss: 0.0025476910567914066, Validation Loss: 0.002489884849637747\n",
      "Epoch 23, Training Loss: 0.002871109226431984, Validation Loss: 0.002565111732110381\n",
      "Epoch 24, Training Loss: 0.002577527229172679, Validation Loss: 0.0024556955322623253\n",
      "Epoch 25, Training Loss: 0.002670132931178579, Validation Loss: 0.002395597519353032\n",
      "Epoch 26, Training Loss: 0.002753498247609689, Validation Loss: 0.00284301012288779\n",
      "Epoch 27, Training Loss: 0.002574333607649001, Validation Loss: 0.0021744867553934455\n",
      "Epoch 28, Training Loss: 0.002320078416512563, Validation Loss: 0.0025985947577282786\n",
      "Epoch 29, Training Loss: 0.0026693492590521392, Validation Loss: 0.002266906318254769\n",
      "Epoch 30, Training Loss: 0.0025652821641415358, Validation Loss: 0.0028706430457532406\n"
     ]
    }
   ],
   "source": [
    "device = torch.device(\"cuda\" if torch.cuda.is_available() else \"cpu\")\n",
    "model = Model().to(device)\n",
    "criterion = nn.MSELoss()\n",
    "optimizer = torch.optim.Adam(model.parameters(), lr=0.001)\n",
    "\n",
    "num_epochs = 30\n",
    "train_losses = []\n",
    "val_losses = []\n",
    "\n",
    "for epoch in range(num_epochs):\n",
    "    model.train()\n",
    "    running_train_loss = 0.0\n",
    "\n",
    "    for lr_imgs, hr_imgs in train_loader:\n",
    "        lr_imgs = lr_imgs.to(device)\n",
    "        hr_imgs = hr_imgs.to(device)\n",
    "        \n",
    "        optimizer.zero_grad()\n",
    "        outputs = model(lr_imgs)\n",
    "        loss = criterion(outputs, hr_imgs)\n",
    "        loss.backward()\n",
    "        optimizer.step()\n",
    "        \n",
    "        running_train_loss += loss.item()\n",
    "    \n",
    "    model.eval()\n",
    "    running_val_loss = 0.0\n",
    "    with torch.no_grad():\n",
    "        for lr_imgs_val, hr_imgs_val in val_loader:\n",
    "            lr_imgs_val = lr_imgs_val.to(device)\n",
    "            hr_imgs_val = hr_imgs_val.to(device)\n",
    "            \n",
    "            outputs_val = model(lr_imgs_val)\n",
    "            val_loss = criterion(outputs_val, hr_imgs_val)\n",
    "            \n",
    "            running_val_loss += val_loss.item()\n",
    "    \n",
    "    epoch_train_loss = running_train_loss / len(train_loader)\n",
    "    epoch_val_loss = running_val_loss / len(val_loader)\n",
    "    train_losses.append(epoch_train_loss)\n",
    "    val_losses.append(epoch_val_loss)\n",
    "    \n",
    "    print(f\"Epoch {epoch+1}, Training Loss: {epoch_train_loss}, Validation Loss: {epoch_val_loss}\")"
   ]
  },
  {
   "cell_type": "code",
   "execution_count": 28,
   "metadata": {},
   "outputs": [
    {
     "name": "stdout",
     "output_type": "stream",
     "text": [
      "Average PSNR: 28.564921379089355, Average SSIM: 0.8292072117328644\n"
     ]
    }
   ],
   "source": [
    "psnr_values = []\n",
    "ssim_values = []\n",
    "\n",
    "model.eval()\n",
    "with torch.no_grad():\n",
    "    for lr_imgs_val, hr_imgs_val in val_loader:\n",
    "        lr_imgs_val = lr_imgs_val.to(device)\n",
    "        hr_imgs_val = hr_imgs_val.to(device)\n",
    "\n",
    "        outputs_val = model(lr_imgs_val)\n",
    "        # 确保outputs_val的值在[0, 1]范围内\n",
    "        outputs_val_clamped = torch.clamp(outputs_val, min=0.0, max=1.0)\n",
    "\n",
    "        psnr_value = psnr(outputs_val_clamped, hr_imgs_val, data_range=1.0).item()\n",
    "        ssim_value = ssim(outputs_val_clamped, hr_imgs_val, data_range=1.0).mean().item()\n",
    "\n",
    "        psnr_values.append(psnr_value)\n",
    "        ssim_values.append(ssim_value)\n",
    "\n",
    "# 计算并打印平均PSNR和SSIM值\n",
    "avg_psnr = sum(psnr_values) / len(psnr_values)\n",
    "avg_ssim = sum(ssim_values) / len(ssim_values)\n",
    "print(f\"Average PSNR: {avg_psnr}, Average SSIM: {avg_ssim}\")\n"
   ]
  },
  {
   "cell_type": "code",
   "execution_count": 27,
   "metadata": {},
   "outputs": [],
   "source": [
    "torch.save(model, 'Model_A_X2.pth')"
   ]
  },
  {
   "cell_type": "code",
   "execution_count": 9,
   "metadata": {},
   "outputs": [
    {
     "data": {
      "image/png": "[encoded data removed]",
      "text/plain": [
       "<Figure size 640x480 with 1 Axes>"
      ]
     },
     "metadata": {},
     "output_type": "display_data"
    }
   ],
   "source": [
    "os.environ['KMP_DUPLICATE_LIB_OK']='True'\n",
    "plt.plot(range(1, num_epochs + 1), train_losses, label='Training Loss')\n",
    "plt.plot(range(1, num_epochs + 1), val_losses, label='Validation Loss')\n",
    "plt.xlabel('Epoch')\n",
    "plt.ylabel('MSE Loss')\n",
    "plt.title('Training and Validation Loss(Bicubic X2)')\n",
    "plt.legend()\n",
    "plt.show()"
   ]
  },
  {
   "cell_type": "code",
   "execution_count": null,
   "metadata": {},
   "outputs": [],
   "source": [
    "model."
   ]
  }
 ],
 "metadata": {
  "kernelspec": {
   "display_name": "lab",
   "language": "python",
   "name": "python3"
  },
  "language_info": {
   "codemirror_mode": {
    "name": "ipython",
    "version": 3
   },
   "file_extension": ".py",
   "mimetype": "text/x-python",
   "name": "python",
   "nbconvert_exporter": "python",
   "pygments_lexer": "ipython3",
   "version": "3.11.5"
  }
 },
 "nbformat": 4,
 "nbformat_minor": 2
}
