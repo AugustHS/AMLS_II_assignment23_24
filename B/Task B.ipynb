{
 "cells": [
  {
   "cell_type": "code",
   "execution_count": 1,
   "metadata": {},
   "outputs": [],
   "source": [
    "import torch\n",
    "import torch.nn as nn\n",
    "from torch.utils.data import Dataset, DataLoader\n",
    "from torchvision import transforms\n",
    "import torchvision.transforms.functional as TF\n",
    "from PIL import Image\n",
    "import os\n",
    "import glob\n",
    "import matplotlib.pyplot as plt\n",
    "import numpy as np\n",
    "from piq import psnr,ssim"
   ]
  },
  {
   "cell_type": "code",
   "execution_count": 2,
   "metadata": {},
   "outputs": [],
   "source": [
    "class DIV2KDataset(Dataset):\n",
    "    def __init__(self, lr_path, hr_path, crop_size_hr=192, scale_factor=2):\n",
    "        self.lr_path = lr_path\n",
    "        self.hr_path = hr_path\n",
    "        self.crop_size_hr = crop_size_hr\n",
    "        self.scale_factor = scale_factor\n",
    "        \n",
    "        self.lr_images = glob.glob(f'{lr_path}/*.png')\n",
    "        self.hr_images = glob.glob(f'{hr_path}/*.png')\n",
    "        \n",
    "        self.crop_size_lr = crop_size_hr // self.scale_factor\n",
    "\n",
    "        self.hr_transform = transforms.Compose([\n",
    "            transforms.ToTensor(),\n",
    "        ])\n",
    "        \n",
    "        self.lr_transform = transforms.Compose([\n",
    "            transforms.Resize((crop_size_hr,crop_size_hr), interpolation=Image.BICUBIC),\n",
    "            transforms.ToTensor(),\n",
    "        ])\n",
    "\n",
    "    def __len__(self):\n",
    "        return len(self.lr_images)\n",
    "\n",
    "    def __getitem__(self, idx):\n",
    "        lr_img_path = self.lr_images[idx]\n",
    "        hr_img_path = self.hr_images[idx]\n",
    "\n",
    "        lr_image = Image.open(lr_img_path)\n",
    "        hr_image = Image.open(hr_img_path)\n",
    "\n",
    "        i, j, h, w = transforms.RandomCrop.get_params(\n",
    "            hr_image, output_size=(self.crop_size_hr, self.crop_size_hr))\n",
    "        hr_image = TF.crop(hr_image, i, j, h, w)\n",
    "        \n",
    "        lr_image = TF.crop(lr_image, i // self.scale_factor, j // self.scale_factor, self.crop_size_lr, self.crop_size_lr)\n",
    "        \n",
    "        lr_image = self.lr_transform(lr_image)\n",
    "        hr_image = self.hr_transform(hr_image)\n",
    "\n",
    "        return lr_image, hr_image"
   ]
  },
  {
   "cell_type": "code",
   "execution_count": 3,
   "metadata": {},
   "outputs": [],
   "source": [
    "TRAIN_HR_PATH = './DIV2K_train_HR'\n",
    "TRAIN_LR_PATH = './DIV2K_train_LR_unknown/X2'\n",
    "VAL_HR_PATH = './DIV2K_valid_HR'\n",
    "VAL_LR_PATH = './DIV2K_valid_LR_unknown_X2/X2'\n",
    "train_dataset = DIV2KDataset(lr_path=TRAIN_LR_PATH, hr_path=TRAIN_HR_PATH)\n",
    "val_dataset = DIV2KDataset(lr_path=VAL_LR_PATH, hr_path=VAL_HR_PATH)\n",
    "train_loader = DataLoader(train_dataset, batch_size=64, shuffle=True)\n",
    "val_loader = DataLoader(val_dataset, batch_size=64, shuffle=True)"
   ]
  },
  {
   "cell_type": "code",
   "execution_count": 4,
   "metadata": {},
   "outputs": [],
   "source": [
    "class Model(nn.Module):\n",
    "    def __init__(self):\n",
    "        super(Model, self).__init__()\n",
    "        self.conv1 = nn.Conv2d(3, 64, kernel_size=9, padding=4)\n",
    "        self.conv2 = nn.Conv2d(64, 32, kernel_size=1, padding=0)\n",
    "        self.conv3 = nn.Conv2d(32, 32, kernel_size=3, padding=1)\n",
    "        self.conv4 = nn.Conv2d(32, 3, kernel_size=5, padding=2)\n",
    "        self.relu = nn.ReLU(inplace=True)\n",
    "\n",
    "    def forward(self, x):\n",
    "        x = self.relu(self.conv1(x))\n",
    "        x = self.relu(self.conv2(x))\n",
    "        x = self.relu(self.conv3(x))\n",
    "        x = self.conv4(x)\n",
    "        return x"
   ]
  },
  {
   "cell_type": "code",
   "execution_count": 5,
   "metadata": {},
   "outputs": [
    {
     "name": "stdout",
     "output_type": "stream",
     "text": [
      "Epoch 1, Training Loss: 0.09889136684628633, Validation Loss: 0.042978059500455856\n",
      "Epoch 2, Training Loss: 0.02793722886305589, Validation Loss: 0.01794719137251377\n",
      "Epoch 3, Training Loss: 0.02040881305359877, Validation Loss: 0.017717289738357067\n",
      "Epoch 4, Training Loss: 0.01774321861851674, Validation Loss: 0.01406297693029046\n",
      "Epoch 5, Training Loss: 0.013417143016480483, Validation Loss: 0.00972142955288291\n",
      "Epoch 6, Training Loss: 0.00909299525217368, Validation Loss: 0.007674093125388026\n",
      "Epoch 7, Training Loss: 0.007311964550843606, Validation Loss: 0.006605008617043495\n",
      "Epoch 8, Training Loss: 0.007102562114596367, Validation Loss: 0.006675925105810165\n",
      "Epoch 9, Training Loss: 0.006227514384171138, Validation Loss: 0.006430257810279727\n",
      "Epoch 10, Training Loss: 0.005818673552801976, Validation Loss: 0.005654633743688464\n",
      "Epoch 11, Training Loss: 0.005489122695647753, Validation Loss: 0.00567841506563127\n",
      "Epoch 12, Training Loss: 0.005154101016859596, Validation Loss: 0.005048700608313084\n",
      "Epoch 13, Training Loss: 0.005017931913383878, Validation Loss: 0.004960654536262155\n",
      "Epoch 14, Training Loss: 0.004853083214794214, Validation Loss: 0.004684071755036712\n",
      "Epoch 15, Training Loss: 0.004557952840024462, Validation Loss: 0.004565434530377388\n",
      "Epoch 16, Training Loss: 0.004517915819843228, Validation Loss: 0.004899368155747652\n",
      "Epoch 17, Training Loss: 0.004682271257759287, Validation Loss: 0.0041500815423205495\n",
      "Epoch 18, Training Loss: 0.0041987009776326325, Validation Loss: 0.0038694454124197364\n",
      "Epoch 19, Training Loss: 0.004337219503493263, Validation Loss: 0.004331879899837077\n",
      "Epoch 20, Training Loss: 0.004024494313993133, Validation Loss: 0.004541891627013683\n",
      "Epoch 21, Training Loss: 0.004248133717248073, Validation Loss: 0.003890122869051993\n",
      "Epoch 22, Training Loss: 0.004067895916075661, Validation Loss: 0.004241087706759572\n",
      "Epoch 23, Training Loss: 0.004253023984627082, Validation Loss: 0.003920088289305568\n",
      "Epoch 24, Training Loss: 0.004191323452127667, Validation Loss: 0.004178430885076523\n",
      "Epoch 25, Training Loss: 0.0038661824073642492, Validation Loss: 0.003443558467552066\n",
      "Epoch 26, Training Loss: 0.0037150672601106074, Validation Loss: 0.0036083756713196635\n",
      "Epoch 27, Training Loss: 0.003917416199468649, Validation Loss: 0.004055139375850558\n",
      "Epoch 28, Training Loss: 0.0037170788273215294, Validation Loss: 0.003941582981497049\n",
      "Epoch 29, Training Loss: 0.004018590839293141, Validation Loss: 0.0038815271109342575\n",
      "Epoch 30, Training Loss: 0.00379770786429827, Validation Loss: 0.003526783431880176\n"
     ]
    }
   ],
   "source": [
    "device = torch.device(\"cuda\" if torch.cuda.is_available() else \"cpu\")\n",
    "model = Model().to(device)\n",
    "criterion = nn.MSELoss()\n",
    "optimizer = torch.optim.Adam(model.parameters(), lr=0.001)\n",
    "\n",
    "num_epochs = 30\n",
    "train_losses = []\n",
    "val_losses = []\n",
    "\n",
    "for epoch in range(num_epochs):\n",
    "    model.train()\n",
    "    running_train_loss = 0.0\n",
    "\n",
    "    for lr_imgs, hr_imgs in train_loader:\n",
    "        lr_imgs = lr_imgs.to(device)\n",
    "        hr_imgs = hr_imgs.to(device)\n",
    "        \n",
    "        optimizer.zero_grad()\n",
    "        outputs = model(lr_imgs)\n",
    "        loss = criterion(outputs, hr_imgs)\n",
    "        loss.backward()\n",
    "        optimizer.step()\n",
    "        \n",
    "        running_train_loss += loss.item()\n",
    "    \n",
    "    model.eval()\n",
    "    running_val_loss = 0.0\n",
    "    with torch.no_grad():\n",
    "        for lr_imgs_val, hr_imgs_val in val_loader:\n",
    "            lr_imgs_val = lr_imgs_val.to(device)\n",
    "            hr_imgs_val = hr_imgs_val.to(device)\n",
    "            \n",
    "            outputs_val = model(lr_imgs_val)\n",
    "            val_loss = criterion(outputs_val, hr_imgs_val)\n",
    "            \n",
    "            running_val_loss += val_loss.item()\n",
    "    \n",
    "    epoch_train_loss = running_train_loss / len(train_loader)\n",
    "    epoch_val_loss = running_val_loss / len(val_loader)\n",
    "    train_losses.append(epoch_train_loss)\n",
    "    val_losses.append(epoch_val_loss)\n",
    "    \n",
    "    print(f\"Epoch {epoch+1}, Training Loss: {epoch_train_loss}, Validation Loss: {epoch_val_loss}\")"
   ]
  },
  {
   "cell_type": "code",
   "execution_count": 6,
   "metadata": {},
   "outputs": [
    {
     "name": "stdout",
     "output_type": "stream",
     "text": [
      "Average PSNR: 26.86713695526123, Average SSIM: 0.7617649435997009\n"
     ]
    }
   ],
   "source": [
    "psnr_values = []\n",
    "ssim_values = []\n",
    "\n",
    "model.eval()\n",
    "with torch.no_grad():\n",
    "    for lr_imgs_val, hr_imgs_val in val_loader:\n",
    "        lr_imgs_val = lr_imgs_val.to(device)\n",
    "        hr_imgs_val = hr_imgs_val.to(device)\n",
    "\n",
    "        outputs_val = model(lr_imgs_val)\n",
    "        outputs_val_clamped = torch.clamp(outputs_val, min=0.0, max=1.0)\n",
    "\n",
    "        psnr_value = psnr(outputs_val_clamped, hr_imgs_val, data_range=1.0).item()\n",
    "        ssim_value = ssim(outputs_val_clamped, hr_imgs_val, data_range=1.0).mean().item()\n",
    "\n",
    "        psnr_values.append(psnr_value)\n",
    "        ssim_values.append(ssim_value)\n",
    "\n",
    "\n",
    "avg_psnr = sum(psnr_values) / len(psnr_values)\n",
    "avg_ssim = sum(ssim_values) / len(ssim_values)\n",
    "print(f\"Average PSNR: {avg_psnr}, Average SSIM: {avg_ssim}\")\n"
   ]
  },
  {
   "cell_type": "code",
   "execution_count": 7,
   "metadata": {},
   "outputs": [],
   "source": [
    "torch.save(model, 'Model_B_X2.pth')\n"
   ]
  },
  {
   "cell_type": "code",
   "execution_count": 20,
   "metadata": {},
   "outputs": [
    {
     "data": {
      "image/png": "[encoded data removed]",
      "text/plain": [
       "<Figure size 640x480 with 1 Axes>"
      ]
     },
     "metadata": {},
     "output_type": "display_data"
    }
   ],
   "source": [
    "os.environ['KMP_DUPLICATE_LIB_OK']='True'\n",
    "plt.plot(range(1, num_epochs + 1), train_losses, label='Training Loss')\n",
    "plt.plot(range(1, num_epochs + 1), val_losses, label='Validation Loss')\n",
    "plt.xlabel('Epoch')\n",
    "plt.ylabel('MSE Loss')\n",
    "plt.title('Training and Validation Loss(Unknown X2)')\n",
    "plt.legend()\n",
    "plt.show()"
   ]
  }
 ],
 "metadata": {
  "kernelspec": {
   "display_name": "lab",
   "language": "python",
   "name": "python3"
  },
  "language_info": {
   "codemirror_mode": {
    "name": "ipython",
    "version": 3
   },
   "file_extension": ".py",
   "mimetype": "text/x-python",
   "name": "python",
   "nbconvert_exporter": "python",
   "pygments_lexer": "ipython3",
   "version": "3.11.5"
  }
 },
 "nbformat": 4,
 "nbformat_minor": 2
}
